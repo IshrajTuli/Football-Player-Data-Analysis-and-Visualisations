{
 "cells": [
  {
   "cell_type": "code",
   "execution_count": 1,
   "id": "964b5a5e",
   "metadata": {},
   "outputs": [
    {
     "ename": "SyntaxError",
     "evalue": "unterminated string literal (detected at line 5) (3654159572.py, line 5)",
     "output_type": "error",
     "traceback": [
      "\u001b[1;36m  Cell \u001b[1;32mIn[1], line 5\u001b[1;36m\u001b[0m\n\u001b[1;33m    df = pd.read_csv(\"C:\\\\Users\\\\chait\\\\Downloads\\\\archive (3)\\\\players.csv)\u001b[0m\n\u001b[1;37m                     ^\u001b[0m\n\u001b[1;31mSyntaxError\u001b[0m\u001b[1;31m:\u001b[0m unterminated string literal (detected at line 5)\n"
     ]
    }
   ],
   "source": [
    "import pandas as pd\n",
    "import numpy as np\n",
    "import matplotlib.pyplot as plt\n",
    "import seaborn as sns\n",
    "df = pd.read_csv(\"C:\\\\Users\\\\chait\\\\Downloads\\\\archive (3)\\\\players.csv)\n",
    "df"
   ]
  },
  {
   "cell_type": "markdown",
   "id": "c8c28129",
   "metadata": {},
   "source": [
    "### Data description and cleaning"
   ]
  },
  {
   "cell_type": "code",
   "execution_count": null,
   "id": "940e2e7b",
   "metadata": {},
   "outputs": [],
   "source": [
    "df.describe()"
   ]
  },
  {
   "cell_type": "code",
   "execution_count": null,
   "id": "a2a79984",
   "metadata": {
    "scrolled": true
   },
   "outputs": [],
   "source": [
    "df.info()"
   ]
  },
  {
   "cell_type": "code",
   "execution_count": null,
   "id": "d0130800",
   "metadata": {},
   "outputs": [],
   "source": [
    "df.duplicated().sum()"
   ]
  },
  {
   "cell_type": "code",
   "execution_count": null,
   "id": "ec4e1f38",
   "metadata": {},
   "outputs": [],
   "source": [
    "df = df.drop('Unnamed: 0',axis=1)\n",
    "df"
   ]
  },
  {
   "cell_type": "markdown",
   "id": "ed4a2659",
   "metadata": {},
   "source": [
    "### Analysis between market value and position"
   ]
  },
  {
   "cell_type": "code",
   "execution_count": null,
   "id": "923f3577",
   "metadata": {},
   "outputs": [],
   "source": [
    "df['New_Position'] = np.where((df['Position'] == 'Centre-Forward') | \n",
    "                                (df['Position'] == 'Left Winger') | \n",
    "                                (df['Position'] == 'Right Winger')|\n",
    "                                (df['Position'] == 'Second Striker'),'Attacker',\n",
    "                                np.where((df['Position'] == 'Attacking Midfield') | \n",
    "                                         (df['Position'] == 'Central Midfield') | \n",
    "                                         (df['Position'] == 'Defensive Midfield') | \n",
    "                                         (df['Position'] == 'Left Midfield') | \n",
    "                                         (df['Position'] == 'Right Midfield'), 'Midfielder',\n",
    "                                         np.where(df['Position'] == 'Goalkeeper', \n",
    "                                                  'Goalkeeper','Defender')))\n",
    "\n",
    "df"
   ]
  },
  {
   "cell_type": "code",
   "execution_count": null,
   "id": "d023f49d",
   "metadata": {},
   "outputs": [],
   "source": [
    "position = df.groupby('New_Position')['Markey Value In Millions(£)'].mean()"
   ]
  },
  {
   "cell_type": "code",
   "execution_count": null,
   "id": "d4a39966",
   "metadata": {},
   "outputs": [],
   "source": [
    "position.plot()\n",
    "plt.title('Mean Market Value by Position')\n",
    "plt.xlabel('Position')\n",
    "plt.ylabel('Mean Market Value')\n",
    "plt.show()"
   ]
  },
  {
   "cell_type": "code",
   "execution_count": null,
   "id": "2bfb5947",
   "metadata": {},
   "outputs": [],
   "source": [
    "df.groupby('New_Position')['Markey Value In Millions(£)'].mean()"
   ]
  },
  {
   "cell_type": "markdown",
   "id": "ed42a4d9",
   "metadata": {},
   "source": [
    "#### Observations:\n",
    "1. Attackers(Right Wingers, Left Wingers, Centre Forwards,Second Strikers) have the highest market Value\n",
    "2. Defenders have the lowest market value.\n",
    "3. Order of market value based on position: Attackers>Mid-fielders>Goalkeepers>Defenders"
   ]
  },
  {
   "cell_type": "markdown",
   "id": "aaa5f67e",
   "metadata": {},
   "source": [
    "### Analysis between market value and country"
   ]
  },
  {
   "cell_type": "code",
   "execution_count": null,
   "id": "00061564",
   "metadata": {
    "scrolled": true
   },
   "outputs": [],
   "source": [
    "plt.figure(figsize=(12, 6))\n",
    "sns.barplot(data=df,x='Country',y='Markey Value In Millions(£)',errorbar=None)\n",
    "plt.title('Mean Market Value by Country')\n",
    "plt.xlabel('Country')\n",
    "plt.xticks(rotation=90)\n",
    "plt.ylabel('Mean Market Value')"
   ]
  },
  {
   "cell_type": "code",
   "execution_count": null,
   "id": "6aaf186d",
   "metadata": {},
   "outputs": [],
   "source": [
    "df['Country'].value_counts()"
   ]
  },
  {
   "cell_type": "code",
   "execution_count": null,
   "id": "8b1f03f2",
   "metadata": {},
   "outputs": [],
   "source": [
    "df.groupby('Country')['Markey Value In Millions(£)'].sum().sort_values(ascending=False)"
   ]
  },
  {
   "cell_type": "markdown",
   "id": "b1567c62",
   "metadata": {},
   "source": [
    "#### Observations:\n",
    "1. England,France,Brazil,Spain & Portugal have the most number of players and also the highest total market value.\n",
    "2. Countries like Egypt and South Korea have high averages despite having lower number of players"
   ]
  },
  {
   "cell_type": "markdown",
   "id": "539f3712",
   "metadata": {},
   "source": [
    "### Analysis between market value and age"
   ]
  },
  {
   "cell_type": "code",
   "execution_count": null,
   "id": "f15ecce0",
   "metadata": {},
   "outputs": [],
   "source": [
    "plt.figure(figsize=(12, 8))\n",
    "sns.distplot(df['Age'], hist=True)\n",
    "plt.title(\"Density Plot of the Ages\", fontsize=16)\n",
    "plt.show()"
   ]
  },
  {
   "cell_type": "code",
   "execution_count": null,
   "id": "a3d65a20",
   "metadata": {},
   "outputs": [],
   "source": [
    "df.groupby('Age')['Markey Value In Millions(£)'].sum().sort_values(ascending=False).head(10)"
   ]
  },
  {
   "cell_type": "code",
   "execution_count": null,
   "id": "77cb4a05",
   "metadata": {},
   "outputs": [],
   "source": [
    "df.groupby('Age')['Markey Value In Millions(£)'].mean().sort_values(ascending=False).head(10)"
   ]
  },
  {
   "cell_type": "markdown",
   "id": "f521c150",
   "metadata": {},
   "source": [
    "#### Observation:\n",
    "1. Most players in age group 20-30\n",
    "2. Highest market value sum is of age 24\n",
    "3. Highest mean market value is of age 34, followed by 18"
   ]
  },
  {
   "cell_type": "markdown",
   "id": "bc96ee6d",
   "metadata": {},
   "source": [
    "### Analysis between market value and club"
   ]
  },
  {
   "cell_type": "code",
   "execution_count": null,
   "id": "48cbb556",
   "metadata": {},
   "outputs": [],
   "source": [
    "frequent_clubs = df['Club'].value_counts().head(20)\n",
    "frequent_clubs"
   ]
  },
  {
   "cell_type": "code",
   "execution_count": null,
   "id": "9d73b1fd",
   "metadata": {},
   "outputs": [],
   "source": [
    "plt.figure(figsize=(12,8))\n",
    "sns.barplot(data=df,x='Club',y='Markey Value In Millions(£)',order=frequent_clubs.index,errorbar=None)\n",
    "plt.xlabel('Most Frequent Clubs')\n",
    "plt.ylabel('Market Value')\n",
    "plt.xticks(rotation=90)\n",
    "plt.show()"
   ]
  },
  {
   "cell_type": "code",
   "execution_count": null,
   "id": "41e8a5dc",
   "metadata": {},
   "outputs": [],
   "source": [
    "df.groupby('Club')['Markey Value In Millions(£)'].mean().sort_values(ascending=False).head()"
   ]
  },
  {
   "cell_type": "code",
   "execution_count": null,
   "id": "df97e13c",
   "metadata": {},
   "outputs": [],
   "source": [
    "df.groupby('Club')['Markey Value In Millions(£)'].sum().sort_values(ascending=False).head()"
   ]
  },
  {
   "cell_type": "markdown",
   "id": "e3fcaee8",
   "metadata": {},
   "source": [
    "#### Observations: \n",
    "1. Manchester City hav the highest valued players in terms of sum as well as mean\n",
    "2. Manchester city is followed by Bayern Munich, Paris Saint-Germain, Inter Milan & Liverpool FC as the most valuable teams"
   ]
  },
  {
   "cell_type": "markdown",
   "id": "aa4b221a",
   "metadata": {},
   "source": [
    "### Analysis between market value and players"
   ]
  },
  {
   "cell_type": "code",
   "execution_count": null,
   "id": "ce41f4bd",
   "metadata": {},
   "outputs": [],
   "source": [
    "df.groupby('Name')['Markey Value In Millions(£)'].sum().sort_values(ascending=False).head()"
   ]
  },
  {
   "cell_type": "markdown",
   "id": "f4f5c97d",
   "metadata": {},
   "source": [
    "#### Observations: \n",
    "1. Kylian Mbappé is the most valued player, followed by Erling Haaland, Harry Kane, Mohamed Salah, Jack Grealish"
   ]
  },
  {
   "cell_type": "markdown",
   "id": "a3bbf9e2",
   "metadata": {},
   "source": [
    "### Comparing the two most valuable players based on various parameters."
   ]
  },
  {
   "cell_type": "code",
   "execution_count": null,
   "id": "36f5a4f0",
   "metadata": {},
   "outputs": [],
   "source": [
    "top_2 = df[df['Name'].isin(['Erling Haaland', 'Kylian Mbappé'])]\n",
    "sns.barplot(y='Name', x='Markey Value In Millions(£)', data=top_2)\n",
    "plt.title('Market Value Comparision')"
   ]
  },
  {
   "cell_type": "code",
   "execution_count": null,
   "id": "f76e8d41",
   "metadata": {},
   "outputs": [],
   "source": [
    "sns.barplot(x='Name', y='Goals', data=top_2)\n",
    "plt.title('Goal Comparision')"
   ]
  },
  {
   "cell_type": "code",
   "execution_count": null,
   "id": "8e584b9a",
   "metadata": {},
   "outputs": [],
   "source": [
    "sns.barplot(x='Name', y='Assists', data=top_2)\n",
    "plt.title('Assists Comparision')"
   ]
  },
  {
   "cell_type": "code",
   "execution_count": null,
   "id": "e803666d",
   "metadata": {},
   "outputs": [],
   "source": [
    "top_2"
   ]
  },
  {
   "cell_type": "markdown",
   "id": "95b50d65",
   "metadata": {},
   "source": [
    "#### Observations:\n",
    "1. Kylian Mbappé is French while Erling Haaland is Norwegian\n",
    "2. Both play in an attacking role, at the Centre-Forward position\n",
    "3. Kylian Mbappé has a higher market value.\n",
    "4. Erling Haaland has more number of goals.\n",
    "5. Kylian Mbappé has more number of Assists"
   ]
  }
 ],
 "metadata": {
  "kernelspec": {
   "display_name": "Python 3 (ipykernel)",
   "language": "python",
   "name": "python3"
  },
  "language_info": {
   "codemirror_mode": {
    "name": "ipython",
    "version": 3
   },
   "file_extension": ".py",
   "mimetype": "text/x-python",
   "name": "python",
   "nbconvert_exporter": "python",
   "pygments_lexer": "ipython3",
   "version": "3.11.5"
  }
 },
 "nbformat": 4,
 "nbformat_minor": 5
}
